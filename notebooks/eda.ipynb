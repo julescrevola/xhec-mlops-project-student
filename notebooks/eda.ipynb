{
 "cells": [
  {
   "attachments": {},
   "cell_type": "markdown",
   "metadata": {},
   "source": [
    "# EDA (Exploratory Data Analysis) of the dataset\n",
    "\n",
    "In this notebook, explore the Abalone dataset, by showing relevant visualizations that help understand the problem you are modelling.\n",
    "\n",
    "Please make sure to write down your conclusions in the final notebook and to remove these intructions."
   ]
  },
  {
   "attachments": {},
   "cell_type": "markdown",
   "metadata": {},
   "source": [
    "# Imports"
   ]
  },
  {
   "cell_type": "code",
   "execution_count": null,
   "metadata": {},
   "outputs": [],
   "source": [
    "# Autoreload settings\n",
    "%load_ext autoreload\n",
    "%autoreload 2\n",
    "\n",
    "# Pandas and display settings\n",
    "import pandas as pd\n",
    "\n",
    "pd.set_option(\"display.max_columns\", 500)\n",
    "\n",
    "# General imports\n",
    "import os\n",
    "import numpy as np\n",
    "import matplotlib.pyplot as plt\n",
    "from scipy.stats import zscore\n",
    "\n",
    "# Data profiling\n",
    "from ydata_profiling import ProfileReport\n",
    "\n",
    "# Plotly for interactive plots\n",
    "import plotly.express as px\n",
    "import plotly.graph_objects as go\n",
    "from plotly.subplots import make_subplots\n",
    "import plotly.io as pio\n",
    "\n",
    "# Machine learning imports\n",
    "from sklearn.decomposition import PCA\n",
    "from sklearn.preprocessing import StandardScaler\n",
    "\n",
    "\n",
    "# Ensure inline plotting in Jupyter-style environments\n",
    "%matplotlib inline"
   ]
  },
  {
   "attachments": {},
   "cell_type": "markdown",
   "metadata": {},
   "source": [
    "# Data"
   ]
  },
  {
   "cell_type": "code",
   "execution_count": null,
   "metadata": {},
   "outputs": [],
   "source": [
    "import os\n",
    "from dotenv import load_dotenv\n",
    "\n",
    "load_dotenv()\n",
    "KAGGLE_API = os.getenv(\"KAGGLE_API\")\n",
    "KAGGLE_API"
   ]
  },
  {
   "cell_type": "code",
   "execution_count": null,
   "metadata": {},
   "outputs": [],
   "source": [
    "import opendatasets as od\n",
    "import pandas\n",
    "\n",
    "od.download(\"https://www.kaggle.com/datasets/rodolfomendes/abalone-dataset\")"
   ]
  },
  {
   "cell_type": "code",
   "execution_count": null,
   "metadata": {},
   "outputs": [],
   "source": [
    "import pandas as pd\n",
    "\n",
    "data_folder = \"abalone-dataset\"\n",
    "data_path = f\"{data_folder}/abalone.csv\"\n",
    "\n",
    "df = pd.read_csv(data_path)"
   ]
  },
  {
   "attachments": {},
   "cell_type": "markdown",
   "metadata": {},
   "source": [
    "# EDA"
   ]
  },
  {
   "cell_type": "code",
   "execution_count": null,
   "metadata": {},
   "outputs": [],
   "source": [
    "df.head()"
   ]
  },
  {
   "cell_type": "code",
   "execution_count": null,
   "metadata": {},
   "outputs": [],
   "source": [
    "df.info()"
   ]
  },
  {
   "cell_type": "code",
   "execution_count": null,
   "metadata": {},
   "outputs": [],
   "source": [
    "# Generate a profile report for the dataset\n",
    "profile = ProfileReport(df, title=\"First look at the given dataset\")\n",
    "\n",
    "# Display the profile report in a Jupyter notebook iframe (if applicable)\n",
    "profile.to_notebook_iframe()"
   ]
  },
  {
   "cell_type": "markdown",
   "metadata": {},
   "source": [
    "### Creating the target"
   ]
  },
  {
   "cell_type": "markdown",
   "metadata": {},
   "source": [
    "Let's recall that the the goal id to predict the age of abalone from physical measurements.\n",
    "The target variable 'Age' not exists for the moment, so we will create the variable Age such that\n",
    "- Age (in years)= Rings+1.5"
   ]
  },
  {
   "cell_type": "code",
   "execution_count": null,
   "metadata": {},
   "outputs": [],
   "source": [
    "# Create the target variable 'Age'\n",
    "df[\"Age\"] = df[\"Rings\"] + 1.5"
   ]
  },
  {
   "cell_type": "markdown",
   "metadata": {},
   "source": [
    "### Encoding the \"Sex\" variable"
   ]
  },
  {
   "cell_type": "code",
   "execution_count": null,
   "metadata": {},
   "outputs": [],
   "source": [
    "# Transform the 'Sex' column: M -> 0, F -> 1, I -> 2\n",
    "df[\"Sex\"] = df[\"Sex\"].replace({\"M\": 0, \"F\": 1, \"I\": 2}).astype(int)"
   ]
  },
  {
   "cell_type": "markdown",
   "metadata": {},
   "source": [
    "### Boxplot for each variable"
   ]
  },
  {
   "cell_type": "code",
   "execution_count": null,
   "metadata": {},
   "outputs": [],
   "source": [
    "# Select numeric columns for the boxplots\n",
    "numeric_columns = [\n",
    "    \"Sex\",\n",
    "    \"Length\",\n",
    "    \"Diameter\",\n",
    "    \"Height\",\n",
    "    \"Whole weight\",\n",
    "    \"Shucked weight\",\n",
    "    \"Viscera weight\",\n",
    "    \"Shell weight\",\n",
    "    \"Age\",\n",
    "]\n",
    "\n",
    "# Create subplots with 3 graphs per row (3 rows in total for 9 numeric columns)\n",
    "fig = make_subplots(rows=3, cols=3, subplot_titles=numeric_columns)\n",
    "\n",
    "# Add a boxplot for each numeric column\n",
    "for i, col in enumerate(numeric_columns):\n",
    "    row = i // 3 + 1\n",
    "    col_idx = i % 3 + 1\n",
    "    fig.add_trace(go.Box(y=df[col], name=col), row=row, col=col_idx)\n",
    "\n",
    "# Update layout for a clean look\n",
    "fig.update_layout(height=900, width=900, title_text=\"Boxplots of Abalone Features\")\n",
    "\n",
    "# Set the renderer to 'png' for static image rendering in VS Code\n",
    "pio.renderers.default = \"png\"\n",
    "\n",
    "# Show the figure as a static image\n",
    "fig.show()"
   ]
  },
  {
   "cell_type": "markdown",
   "metadata": {},
   "source": [
    "### Analyze outliers using Z-scores"
   ]
  },
  {
   "cell_type": "code",
   "execution_count": null,
   "metadata": {},
   "outputs": [],
   "source": [
    "# Calculate Z-scores for each numeric column\n",
    "z_scores = df[numeric_columns].apply(zscore)\n",
    "\n",
    "# Identify rows where the absolute Z-score is greater than 3 (potential outliers)\n",
    "outliers = z_scores.abs() > 3\n",
    "\n",
    "# Print a summary of the outliers for each feature\n",
    "for col in numeric_columns:\n",
    "    num_outliers = outliers[col].sum()\n",
    "    print(f\"Number of outliers in {col}: {num_outliers}\")"
   ]
  },
  {
   "cell_type": "markdown",
   "metadata": {},
   "source": [
    "### PCA (Principal Component Analysis)"
   ]
  },
  {
   "cell_type": "code",
   "execution_count": null,
   "metadata": {},
   "outputs": [],
   "source": [
    "pio.renderers.default = \"notebook_connected\"\n",
    "\n",
    "\n",
    "# Standardize the data (only numeric columns, excluding 'Age')\n",
    "X = df[numeric_columns].drop(columns=[\"Age\"])\n",
    "\n",
    "scaler = StandardScaler()\n",
    "X_scaled = scaler.fit_transform(X)\n",
    "\n",
    "# Perform PCA to reduce the data to 3 components\n",
    "pca = PCA(n_components=3)\n",
    "X_pca = pca.fit_transform(X_scaled)\n",
    "\n",
    "# Create a DataFrame with the PCA components\n",
    "pca_df = pd.DataFrame(X_pca, columns=[\"PCA1\", \"PCA2\", \"PCA3\"])\n",
    "pca_df[\"Age\"] = df[\"Age\"]  #\n",
    "\n",
    "fig = px.scatter_3d(\n",
    "    pca_df,\n",
    "    x=\"PCA1\",\n",
    "    y=\"PCA2\",\n",
    "    z=\"PCA3\",\n",
    "    color=\"Age\",\n",
    "    title=\"PCA Visualization of Abalone Data (3D)\",\n",
    "    labels={\"PCA1\": \"PCA 1\", \"PCA2\": \"PCA 2\", \"PCA3\": \"PCA 3\"},\n",
    ")\n",
    "fig.show()"
   ]
  },
  {
   "cell_type": "markdown",
   "metadata": {},
   "source": [
    "### PCA LOADINGS"
   ]
  },
  {
   "cell_type": "code",
   "execution_count": null,
   "metadata": {},
   "outputs": [],
   "source": [
    "# Perform PCA\n",
    "pca = PCA(n_components=3)\n",
    "pca.fit(X_scaled)\n",
    "\n",
    "# Get the loadings (contributions of each feature to the components)\n",
    "loadings = pca.components_.T\n",
    "\n",
    "loadings_df = pd.DataFrame(loadings, columns=[f\"PC{i+1}\" for i in range(loadings.shape[1])], index=X.columns)\n",
    "\n",
    "fig, axes = plt.subplots(1, 3, figsize=(18, 6))\n",
    "\n",
    "# Plot each PCA loading as a bar plot in its respective subplot\n",
    "for i, ax in enumerate(axes):\n",
    "    loadings_df[f\"PC{i+1}\"].plot(kind=\"bar\", ax=ax)\n",
    "    ax.set_title(f\"PCA Loadings for Principal Component {i+1}\")\n",
    "    ax.set_ylabel(\"Loading Score\")\n",
    "    ax.set_xlabel(\"Feature\")\n",
    "    ax.tick_params(axis=\"x\", rotation=45)  # Rotate x-axis labels for better readability\n",
    "\n",
    "plt.tight_layout()\n",
    "\n",
    "plt.show()"
   ]
  },
  {
   "cell_type": "markdown",
   "metadata": {},
   "source": [
    "\n",
    "Principal Component Analysis (PCA) loadings indicate the contribution of each feature (or variable) to the principal components (PCs). Each principal component represents a linear combination of the original features, and the loadings show how much each feature contributes to that particular component.\n",
    "\n",
    "- **PC1 (Principal Component 1)**: Most features, like `Length`, `Diameter`, `Whole weight`, etc., contribute similarly to this component, except `Sex`, which has a slightly negative loading. This suggests that most of the features are strongly aligned along this principal component, capturing a large portion of the variance in the data.\n",
    "- **PC2 (Principal Component 2)**: `Sex` has a dominant positive loading, meaning it largely explains the variance in this component, while other features like `Length` and `Diameter` have small positive loadings.\n",
    "- **PC3 (Principal Component 3)**: `Height` has a strong positive loading, while `Whole weight`, `Shucked weight`, and `Viscera weight` contribute negatively, indicating that these features play an important role in explaining the variance captured by PC3.\n",
    "\n",
    "### Purpose of PCA Loadings:\n",
    "PCA loadings help identify which features are most influential in each principal component, thereby providing insight into how the original features relate to the newly created principal components. In this analysis, `Sex`, `Height`, and weights seem to contribute significantly to the variance in different components, offering a way to reduce dimensionality while maintaining the most important features."
   ]
  }
 ],
 "metadata": {
  "kernelspec": {
   "display_name": "abalone-age-env",
   "language": "python",
   "name": "python3"
  },
  "language_info": {
   "codemirror_mode": {
    "name": "ipython",
    "version": 3
   },
   "file_extension": ".py",
   "mimetype": "text/x-python",
   "name": "python",
   "nbconvert_exporter": "python",
   "pygments_lexer": "ipython3",
   "version": "3.10.15"
  }
 },
 "nbformat": 4,
 "nbformat_minor": 2
}
